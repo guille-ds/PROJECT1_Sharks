{
 "cells": [
  {
   "cell_type": "code",
   "execution_count": null,
   "metadata": {},
   "outputs": [],
   "source": [
    "\n",
    "____________D A T A F R A M E S_____________\n",
    "\n",
    "df.isnull().sum() - Devuelve el número de elementos con valor NULL de una columna\n",
    "df.value_counts() - devuelve 2 columnas (key|value) diciendo cuantos hay (value) de cada (key)\n",
    "df.reset_index(drop=False) - Resetea el indx y añade otra columna con el nuevo indx. Drop=True sobreescribe indx\n",
    "df.sum - Suma los valores de la columna\n",
    "df.drop('name', 1) - elimina una columna (el 1 es el axis)\n",
    "df['column1'].equals(df['column2']) - Devuelve True o False si las columna entera es igual.\n",
    "\n",
    "\n",
    "df.fillna() - Rellena dato en caso de NULL. Análogo a ifnull de mySQL\n",
    "df.mfrCode - \n",
    "df.short_values() - Ordena una columna\n",
    "\n",
    "df.head - Saca los valores altos de la lista\n",
    "df.rename(columns = new_name, errors=\"raise\") - Renombra columnas (si queremos varias, le pasamos un diccionario {name : newname} o una función\n",
    "df.dtypes - Devuelve el tipo de dato de cada celda\n",
    "\n",
    "df.count() - \n",
    "\n",
    "                                                                    \n",
    "df.cilinders = df[\"cilinders\"]  -  Son maneras iguales de llamar a una columna\n",
    "\n",
    "np.percentile(data,percentil) - \n",
    "np.where() - es como un if de True y False\n",
    "\n",
    "                                                                   \n",
    "____________P A N D A S____________                                                                   \n",
    "\n",
    "pd.cut - Devuelve la columna cortada en trozos de igual longitud (a priori).\n",
    "         Pero tiene varias labels (5) que matizan su funcionamiento.   \n",
    "         qcut - en vez de cortar el indx en rangos iguales, define el indx en funcion \n",
    "                de la distribución de sus valores asociados.\n",
    "\n",
    "pd.read_csv('archivo.csv', encoding='latin-1')                                                                   \n",
    "                                                                   \n",
    "*.groupby*\n",
    "\"tabla que analizo\".groupby(\"criterio\").agg({(\"year\":\"count\")})\n",
    "\n",
    "*.apply*\n",
    "\n",
    "\n",
    "\n",
    "____________M O V I D A S_____________\n",
    "\n",
    "\"Una vez visto, todo el mundo es listo\" --Marc Pomar--\n",
    "\n",
    "Bitwise operator\n",
    "\n",
    "Podemos detectar OUTLAYERS (datos irrelevantes en términos de análisis general) analizando los percentiles.\n",
    "Aunque hay algoritmos que se encargan de eso guapamente p.ej: RANSAC \n",
    "https://es.wikipedia.org/wiki/RANSAC\n",
    "\n",
    "- kaggle = DATA SETS PUBLICOS\n",
    "\n",
    "for col in df\n",
    "\n",
    "\n",
    "\n",
    "OJO CON EL inplace=True porque machaca la columna con nuevos "
   ]
  },
  {
   "cell_type": "code",
   "execution_count": null,
   "metadata": {},
   "outputs": [],
   "source": [
    "\n",
    "R E G E X\n",
    "\n",
    "re.sub(\"caracter a sustituir\", \"sustituido\", donde buscar) - subsituye caracteres en strings\n",
    "re.search() - busca en texto (no sustituye)"
   ]
  },
  {
   "cell_type": "code",
   "execution_count": 2,
   "metadata": {},
   "outputs": [
    {
     "ename": "SyntaxError",
     "evalue": "invalid syntax (<ipython-input-2-a1e8872cd158>, line 1)",
     "output_type": "error",
     "traceback": [
      "\u001b[0;36m  File \u001b[0;32m\"<ipython-input-2-a1e8872cd158>\"\u001b[0;36m, line \u001b[0;32m1\u001b[0m\n\u001b[0;31m    PROYECTOS DE FINDE PASADOS:\u001b[0m\n\u001b[0m               ^\u001b[0m\n\u001b[0;31mSyntaxError\u001b[0m\u001b[0;31m:\u001b[0m invalid syntax\n"
     ]
    }
   ],
   "source": [
    "\n",
    "PROYECTO DE FINDE:\n",
    "    \n",
    "- trabajar individualmente como train para el final project\n",
    "\n",
    "- hacer las funciones en un \"archivo.py\" para luego importarlas directamente en un \"jupyter notebook\"\n",
    "- RECARGAR el kernel de jupyter cuando se modifiquen las funciones importadas para que se vuelvan a llamar.\n",
    "\n",
    "\n",
    "MY REPOSITORIO\n",
    "    |\n",
    "    |---readme explicando la mandanga\n",
    "    |\n",
    "    |---input (csv, datasets, ...)\n",
    "    |\n",
    "    |---output (csv_after, fotos, gráficas...)\n",
    "    |\n",
    "    |---src(functions.py, código, code, jupyter...)\n",
    "    |\n",
    "    |---\"jupyter notebook\" to guapo anotado para que lo entienda hasta tu abuela\n",
    "\n",
    "    \n",
    "------HINTS------    \n",
    "import src.functions.py as f\n",
    "from src.functions.py import suma(por ejemplo)\n",
    "\n",
    "\n",
    "\n"
   ]
  },
  {
   "cell_type": "code",
   "execution_count": null,
   "metadata": {},
   "outputs": [],
   "source": []
  }
 ],
 "metadata": {
  "kernelspec": {
   "display_name": "Python 3",
   "language": "python",
   "name": "python3"
  },
  "language_info": {
   "codemirror_mode": {
    "name": "ipython",
    "version": 3
   },
   "file_extension": ".py",
   "mimetype": "text/x-python",
   "name": "python",
   "nbconvert_exporter": "python",
   "pygments_lexer": "ipython3",
   "version": "3.7.5"
  }
 },
 "nbformat": 4,
 "nbformat_minor": 4
}
